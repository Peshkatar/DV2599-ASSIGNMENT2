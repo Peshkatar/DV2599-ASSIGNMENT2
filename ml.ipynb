{
 "cells": [
  {
   "cell_type": "markdown",
   "id": "3b49356d-f6c9-4877-bc94-1284a9fc5ec2",
   "metadata": {},
   "source": [
    "**DVAMI20h**\n",
    "\n",
    "- Arlind Iseni\n",
    "- Alexander Jamal"
   ]
  },
  {
   "cell_type": "markdown",
   "id": "a4704e76-669d-4a07-bec4-fac228db35bf",
   "metadata": {
    "tags": []
   },
   "source": [
    "## Assignment 2\n",
    "The aim of Assignment 2 is to experimentally compare the computational and predictive performance of three learning algorithms on a spam detection task.\n",
    "\n",
    "**Group assignment:** Max 2 students\n",
    "\n",
    "**Prerequisite reading:** sections 12.1 - 12.3 in the main literature\n",
    "\n",
    "**Language:** Python (Already implemented supervised learning algorithms and standard libraries can be used. However, It is NOT permitted to use any library or API that directly computes the Friedman and Nemeyi tests.)\n",
    "\n",
    "**Data:** Spambase Dataset, https://archive.ics.uci.edu/ml/datasets/SpambaseLinks to an external site.\n",
    "\n",
    "**Algorithms**  \n",
    "three supervised classification learning algorithms of your choice.\n",
    "\n",
    "**Evaluation measures:** perform a comparison between the selected algorithms based on 1) computational performance in terms of training time, 2) predictive performance based on accuracy, and 3) predictive performance based on F-measure.\n",
    "\n",
    "**Procedure**  \n",
    "(repeat steps 2, 3, and 4 for each evaluation measure above)\n",
    "\n",
    "1. Run stratified ten-fold cross-validation tests.\n",
    "2. Present the results exactly as in the table in example 12.4 of the main literature.\n",
    "3. Conduct the Friedman test and report the results exactly as in the table in example 12.8 of the main literature.\n",
    "4. Determine whether the average ranks as a whole display significant differences on the 0.05 alpha level and, if so, use the Nemeyi test to calculate the critical difference in order to determine which algorithms perform significantly different from each other.\n",
    "\n",
    "**Compute**  \n",
    "the size of possible instances\n",
    "the size of hypothesis space (the number of possible extensions)\n",
    "the number of possible conjunctive concepts according to the descriptions in Section 4.1 of the main literature\n",
    "Implement the algorithm and verify that it works as expected.\n",
    "Compute the accuracy of the model and report the generated model, i.e., the conjunctive rule.\n",
    "\n",
    "**Written report**  \n",
    "Template: The IEEE conference template and citation style should be followed (templatesLinks to an external site. in MS word and LaTeX).\n",
    "Language: English without spelling mistakes.\n",
    "Style: Clear.\n",
    "Content: The report should give an overview of the conducted experiments and the obtained results. It should contain (but not be limited to) information about the used classifiers, a brief description of the Friedman and Nemeyi tests along with the formulas, results of the experiment as stated above, results of the comparison stating whether the algorithms perform significantly different or not from each other for each performance measure.\n",
    "Format: PDF.\n",
    "Page limit: 2 pages excluding references (no abstract should be included)\n",
    "\n",
    "**Code**   \n",
    "Provide meaningful comments for different blocks of the code. \n",
    "A README.TXT file must clearly state exactly how to execute the code and any necessary setups.\n",
    "\n",
    "**Submission**  \n",
    "Make sure to include your names in the report and the code.\n",
    "The report must be submitted as a PDF separately (not to be included in the ZIP file).\n",
    "Code and additional files related to implementation must be archived using ZIP."
   ]
  },
  {
   "cell_type": "markdown",
   "id": "9985dd59-2b86-46d6-94ba-94f613d4f293",
   "metadata": {},
   "source": [
    "### Import modules and dataset"
   ]
  },
  {
   "cell_type": "code",
   "execution_count": 28,
   "id": "99e40aef-5213-461c-bcce-e105ae68f674",
   "metadata": {},
   "outputs": [],
   "source": [
    "import pandas as pd\n",
    "import numpy as np\n",
    "import matplotlib.pyplot as plt\n",
    "from sklearn.model_selection import train_test_split, StratifiedKFold\n",
    "from sklearn.ensemble import RandomForestClassifier, AdaBoostClassifier\n",
    "from sklearn.preprocessing import KBinsDiscretizer, Normalizer\n",
    "from sklearn.metrics import accuracy_score, f1_score, precision_score, recall_score\n",
    "from sklearn.svm import SVC"
   ]
  },
  {
   "cell_type": "markdown",
   "id": "7abcc5e4-52de-4050-bb71-5af419d1395b",
   "metadata": {},
   "source": [
    "### Configure settings"
   ]
  },
  {
   "cell_type": "code",
   "execution_count": 4,
   "id": "797a48a9-0db8-46f9-bbf9-a1d6027f0543",
   "metadata": {},
   "outputs": [],
   "source": [
    "%matplotlib widget\n",
    "%matplotlib inline\n",
    "plt.rcParams['figure.figsize'] = (18, 12)\n",
    "plt.rcParams['figure.constrained_layout.use'] = True"
   ]
  },
  {
   "cell_type": "markdown",
   "id": "60608430-7ecf-4013-a20b-338b91e0ac03",
   "metadata": {},
   "source": [
    "### Load and read dataframe"
   ]
  },
  {
   "cell_type": "code",
   "execution_count": 5,
   "id": "09436610-5bbf-4d98-86b1-d0d9cf155969",
   "metadata": {},
   "outputs": [],
   "source": [
    "# columns are saved in the data/names.txt file. Here we all entries without the newline character in a list.\n",
    "with open(\"data/names.txt\", \"r\") as f:\n",
    "    columns = f.read().splitlines()"
   ]
  },
  {
   "cell_type": "code",
   "execution_count": 6,
   "id": "7ad5e1b6-f3fa-4f0e-87b2-19d123818e1e",
   "metadata": {},
   "outputs": [],
   "source": [
    "df = pd.read_csv(\"data/spambase.data\", names=columns)"
   ]
  },
  {
   "cell_type": "code",
   "execution_count": 7,
   "id": "349ffe1b-45b5-4dae-822e-905ed44ecc42",
   "metadata": {},
   "outputs": [
    {
     "data": {
      "text/html": [
       "<div>\n",
       "<style scoped>\n",
       "    .dataframe tbody tr th:only-of-type {\n",
       "        vertical-align: middle;\n",
       "    }\n",
       "\n",
       "    .dataframe tbody tr th {\n",
       "        vertical-align: top;\n",
       "    }\n",
       "\n",
       "    .dataframe thead th {\n",
       "        text-align: right;\n",
       "    }\n",
       "</style>\n",
       "<table border=\"1\" class=\"dataframe\">\n",
       "  <thead>\n",
       "    <tr style=\"text-align: right;\">\n",
       "      <th></th>\n",
       "      <th>word_freq_make</th>\n",
       "      <th>word_freq_address</th>\n",
       "      <th>word_freq_all</th>\n",
       "      <th>word_freq_3d</th>\n",
       "      <th>word_freq_our</th>\n",
       "      <th>word_freq_over</th>\n",
       "      <th>word_freq_remove</th>\n",
       "      <th>word_freq_internet</th>\n",
       "      <th>word_freq_orders</th>\n",
       "      <th>word_freq_mail</th>\n",
       "      <th>...</th>\n",
       "      <th>char_freq_;</th>\n",
       "      <th>char_freq_(</th>\n",
       "      <th>char_freq_[</th>\n",
       "      <th>char_freq_!</th>\n",
       "      <th>char_freq_$</th>\n",
       "      <th>char_freq_#</th>\n",
       "      <th>capital_run_length_average</th>\n",
       "      <th>capital_run_length_longest</th>\n",
       "      <th>capital_run_length_total</th>\n",
       "      <th>is_spam</th>\n",
       "    </tr>\n",
       "  </thead>\n",
       "  <tbody>\n",
       "    <tr>\n",
       "      <th>0</th>\n",
       "      <td>0.00</td>\n",
       "      <td>0.64</td>\n",
       "      <td>0.64</td>\n",
       "      <td>0.0</td>\n",
       "      <td>0.32</td>\n",
       "      <td>0.00</td>\n",
       "      <td>0.00</td>\n",
       "      <td>0.00</td>\n",
       "      <td>0.00</td>\n",
       "      <td>0.00</td>\n",
       "      <td>...</td>\n",
       "      <td>0.00</td>\n",
       "      <td>0.000</td>\n",
       "      <td>0.0</td>\n",
       "      <td>0.778</td>\n",
       "      <td>0.000</td>\n",
       "      <td>0.000</td>\n",
       "      <td>3.756</td>\n",
       "      <td>61</td>\n",
       "      <td>278</td>\n",
       "      <td>1</td>\n",
       "    </tr>\n",
       "    <tr>\n",
       "      <th>1</th>\n",
       "      <td>0.21</td>\n",
       "      <td>0.28</td>\n",
       "      <td>0.50</td>\n",
       "      <td>0.0</td>\n",
       "      <td>0.14</td>\n",
       "      <td>0.28</td>\n",
       "      <td>0.21</td>\n",
       "      <td>0.07</td>\n",
       "      <td>0.00</td>\n",
       "      <td>0.94</td>\n",
       "      <td>...</td>\n",
       "      <td>0.00</td>\n",
       "      <td>0.132</td>\n",
       "      <td>0.0</td>\n",
       "      <td>0.372</td>\n",
       "      <td>0.180</td>\n",
       "      <td>0.048</td>\n",
       "      <td>5.114</td>\n",
       "      <td>101</td>\n",
       "      <td>1028</td>\n",
       "      <td>1</td>\n",
       "    </tr>\n",
       "    <tr>\n",
       "      <th>2</th>\n",
       "      <td>0.06</td>\n",
       "      <td>0.00</td>\n",
       "      <td>0.71</td>\n",
       "      <td>0.0</td>\n",
       "      <td>1.23</td>\n",
       "      <td>0.19</td>\n",
       "      <td>0.19</td>\n",
       "      <td>0.12</td>\n",
       "      <td>0.64</td>\n",
       "      <td>0.25</td>\n",
       "      <td>...</td>\n",
       "      <td>0.01</td>\n",
       "      <td>0.143</td>\n",
       "      <td>0.0</td>\n",
       "      <td>0.276</td>\n",
       "      <td>0.184</td>\n",
       "      <td>0.010</td>\n",
       "      <td>9.821</td>\n",
       "      <td>485</td>\n",
       "      <td>2259</td>\n",
       "      <td>1</td>\n",
       "    </tr>\n",
       "    <tr>\n",
       "      <th>3</th>\n",
       "      <td>0.00</td>\n",
       "      <td>0.00</td>\n",
       "      <td>0.00</td>\n",
       "      <td>0.0</td>\n",
       "      <td>0.63</td>\n",
       "      <td>0.00</td>\n",
       "      <td>0.31</td>\n",
       "      <td>0.63</td>\n",
       "      <td>0.31</td>\n",
       "      <td>0.63</td>\n",
       "      <td>...</td>\n",
       "      <td>0.00</td>\n",
       "      <td>0.137</td>\n",
       "      <td>0.0</td>\n",
       "      <td>0.137</td>\n",
       "      <td>0.000</td>\n",
       "      <td>0.000</td>\n",
       "      <td>3.537</td>\n",
       "      <td>40</td>\n",
       "      <td>191</td>\n",
       "      <td>1</td>\n",
       "    </tr>\n",
       "    <tr>\n",
       "      <th>4</th>\n",
       "      <td>0.00</td>\n",
       "      <td>0.00</td>\n",
       "      <td>0.00</td>\n",
       "      <td>0.0</td>\n",
       "      <td>0.63</td>\n",
       "      <td>0.00</td>\n",
       "      <td>0.31</td>\n",
       "      <td>0.63</td>\n",
       "      <td>0.31</td>\n",
       "      <td>0.63</td>\n",
       "      <td>...</td>\n",
       "      <td>0.00</td>\n",
       "      <td>0.135</td>\n",
       "      <td>0.0</td>\n",
       "      <td>0.135</td>\n",
       "      <td>0.000</td>\n",
       "      <td>0.000</td>\n",
       "      <td>3.537</td>\n",
       "      <td>40</td>\n",
       "      <td>191</td>\n",
       "      <td>1</td>\n",
       "    </tr>\n",
       "  </tbody>\n",
       "</table>\n",
       "<p>5 rows × 58 columns</p>\n",
       "</div>"
      ],
      "text/plain": [
       "   word_freq_make  word_freq_address  word_freq_all  word_freq_3d  \\\n",
       "0            0.00               0.64           0.64           0.0   \n",
       "1            0.21               0.28           0.50           0.0   \n",
       "2            0.06               0.00           0.71           0.0   \n",
       "3            0.00               0.00           0.00           0.0   \n",
       "4            0.00               0.00           0.00           0.0   \n",
       "\n",
       "   word_freq_our  word_freq_over  word_freq_remove  word_freq_internet  \\\n",
       "0           0.32            0.00              0.00                0.00   \n",
       "1           0.14            0.28              0.21                0.07   \n",
       "2           1.23            0.19              0.19                0.12   \n",
       "3           0.63            0.00              0.31                0.63   \n",
       "4           0.63            0.00              0.31                0.63   \n",
       "\n",
       "   word_freq_orders  word_freq_mail  ...  char_freq_;  char_freq_(  \\\n",
       "0              0.00            0.00  ...         0.00        0.000   \n",
       "1              0.00            0.94  ...         0.00        0.132   \n",
       "2              0.64            0.25  ...         0.01        0.143   \n",
       "3              0.31            0.63  ...         0.00        0.137   \n",
       "4              0.31            0.63  ...         0.00        0.135   \n",
       "\n",
       "   char_freq_[  char_freq_!  char_freq_$   char_freq_#  \\\n",
       "0          0.0        0.778         0.000        0.000   \n",
       "1          0.0        0.372         0.180        0.048   \n",
       "2          0.0        0.276         0.184        0.010   \n",
       "3          0.0        0.137         0.000        0.000   \n",
       "4          0.0        0.135         0.000        0.000   \n",
       "\n",
       "   capital_run_length_average  capital_run_length_longest  \\\n",
       "0                       3.756                          61   \n",
       "1                       5.114                         101   \n",
       "2                       9.821                         485   \n",
       "3                       3.537                          40   \n",
       "4                       3.537                          40   \n",
       "\n",
       "   capital_run_length_total  is_spam  \n",
       "0                       278        1  \n",
       "1                      1028        1  \n",
       "2                      2259        1  \n",
       "3                       191        1  \n",
       "4                       191        1  \n",
       "\n",
       "[5 rows x 58 columns]"
      ]
     },
     "execution_count": 7,
     "metadata": {},
     "output_type": "execute_result"
    }
   ],
   "source": [
    "df.head()"
   ]
  },
  {
   "cell_type": "markdown",
   "id": "f60a0b8d-0391-4eae-8463-96e8c405bd9a",
   "metadata": {},
   "source": [
    "### Data exploration"
   ]
  },
  {
   "cell_type": "code",
   "execution_count": 8,
   "id": "affc2fc3-7e87-4b48-87d3-e798503566b5",
   "metadata": {},
   "outputs": [
    {
     "data": {
      "text/plain": [
       "0    0.605955\n",
       "1    0.394045\n",
       "Name: is_spam, dtype: float64"
      ]
     },
     "execution_count": 8,
     "metadata": {},
     "output_type": "execute_result"
    }
   ],
   "source": [
    "df[\"is_spam\"].value_counts(normalize=True)"
   ]
  },
  {
   "cell_type": "markdown",
   "id": "251ead7d-8cda-4c0d-a2c4-777613c04e5f",
   "metadata": {},
   "source": [
    "### Data cleaning"
   ]
  },
  {
   "cell_type": "markdown",
   "id": "a952c558-eca5-48c3-9cfd-060257ca631b",
   "metadata": {},
   "source": [
    "#### null-values"
   ]
  },
  {
   "cell_type": "code",
   "execution_count": 9,
   "id": "efbc4ece-4f68-48d9-a18b-a75961b8a773",
   "metadata": {},
   "outputs": [
    {
     "data": {
      "text/plain": [
       "False"
      ]
     },
     "execution_count": 9,
     "metadata": {},
     "output_type": "execute_result"
    }
   ],
   "source": [
    "df.isna().sum().any()"
   ]
  },
  {
   "cell_type": "markdown",
   "id": "37d0b59b-2656-4eb6-8241-85834b8bfb33",
   "metadata": {},
   "source": [
    "#### duplicates"
   ]
  },
  {
   "cell_type": "code",
   "execution_count": 10,
   "id": "eccd59bf-bc66-45ea-a98a-c101ed92a49b",
   "metadata": {},
   "outputs": [
    {
     "data": {
      "text/plain": [
       "391"
      ]
     },
     "execution_count": 10,
     "metadata": {},
     "output_type": "execute_result"
    }
   ],
   "source": [
    "df.duplicated().sum()"
   ]
  },
  {
   "cell_type": "markdown",
   "id": "99d017de-9668-4c6e-82dd-161ac1451c29",
   "metadata": {},
   "source": [
    "#### negative values"
   ]
  },
  {
   "cell_type": "code",
   "execution_count": 11,
   "id": "1ad7b7cd-2192-4674-921d-96fef53a54db",
   "metadata": {},
   "outputs": [
    {
     "data": {
      "text/plain": [
       "0"
      ]
     },
     "execution_count": 11,
     "metadata": {},
     "output_type": "execute_result"
    }
   ],
   "source": [
    "(df < 0).all().sum()"
   ]
  },
  {
   "cell_type": "markdown",
   "id": "2351ca63-5676-4ac0-ade7-ad661d9ad60d",
   "metadata": {},
   "source": [
    "### Split data"
   ]
  },
  {
   "cell_type": "code",
   "execution_count": 13,
   "id": "37f72be7-da99-481b-941f-fa3ace9725de",
   "metadata": {},
   "outputs": [],
   "source": [
    "X = df.iloc[:, :-1]\n",
    "y = df.iloc[:, -1]"
   ]
  },
  {
   "cell_type": "code",
   "execution_count": 14,
   "id": "ccf9f37e-f25b-473a-96ef-6bd56d35b83e",
   "metadata": {},
   "outputs": [],
   "source": [
    "skf = StratifiedKFold(n_splits=10, shuffle=False, random_state=None)"
   ]
  },
  {
   "cell_type": "markdown",
   "id": "ad8ade15-4056-4295-a9c1-e6eafd044931",
   "metadata": {},
   "source": [
    "### Data transformation"
   ]
  },
  {
   "cell_type": "code",
   "execution_count": 119,
   "id": "4558e9eb-aeea-40a9-93e6-0de9fb6449db",
   "metadata": {},
   "outputs": [],
   "source": [
    "def fitter(X_: pd.DataFrame, transformer_, params: dict):\n",
    "    \"\"\"\n",
    "    Fits an algorithm to data.\n",
    "    \n",
    "    Args:\n",
    "        X_: pandas dataframe (unlabeled data)\n",
    "        transformer_: any algorithm used for data transformation\n",
    "        params: parameters used to initialize transformer function\n",
    "    \n",
    "    Returns:\n",
    "        transformation function object\n",
    "    \"\"\"\n",
    "    return transformer_(**params).fit(X_)"
   ]
  },
  {
   "cell_type": "code",
   "execution_count": 16,
   "id": "86f8bf00-af56-4269-8abc-d9d0511bbb52",
   "metadata": {},
   "outputs": [],
   "source": [
    "def transformer(X_: pd.DataFrame, fitter_: fitter) -> pd.DataFrame:\n",
    "    \"\"\"\n",
    "    Transforms dataframe.\n",
    "    \n",
    "    Args:\n",
    "        X_: pandas data frame (unlabeled data)\n",
    "        fitter_: the fit we use to transform\n",
    "    \n",
    "    Returns:\n",
    "        pandas dataframe\n",
    "    \"\"\"\n",
    "    return pd.DataFrame(fitter_.transform(X_))"
   ]
  },
  {
   "cell_type": "markdown",
   "id": "f0ea4927-18cf-4514-aea4-e6fa5135a645",
   "metadata": {},
   "source": [
    "### Stratified K-fold"
   ]
  },
  {
   "cell_type": "code",
   "execution_count": 122,
   "id": "89a939fa-360b-4c98-8079-cf70c2fb99f1",
   "metadata": {},
   "outputs": [],
   "source": [
    "def stratified(X_: pd.DataFrame, y_: pd.Series, clf, transformer_=None, params=None) -> pd.DataFrame:\n",
    "    \"\"\"\n",
    "    loops through kfold stratified training / test data splits and trains model.\n",
    "    \n",
    "    Args:\n",
    "        X_: pandas data frame (unlabeled data)\n",
    "        y_: pandas series (label data)\n",
    "        clf: classifier algorithm\n",
    "        transformer_: what algorithm for transformation (optional)\n",
    "        params: dictionary with arguments for the transformer\n",
    "    \n",
    "    Returns:\n",
    "        None\n",
    "    \"\"\"\n",
    "    acc = []\n",
    "    f1 = []\n",
    "    prec = []\n",
    "    recall = []\n",
    "    for train_index, test_index in skf.split(X, y):\n",
    "        params = {} if params == None else params\n",
    "        fit = None if transformer_ == None else fitter(X.iloc[train_index], transformer_, params)\n",
    "        X_train = X_.iloc[train_index] if fit == None else transformer(X_.iloc[train_index], fit)\n",
    "        X_test = X_.iloc[test_index] if fit == None else transformer(X_.iloc[test_index], fit)\n",
    "        \n",
    "        y_train, y_test = y_[train_index], y_[test_index]\n",
    "        \n",
    "        clf.fit(X_train, y_train)\n",
    "        y_pred = clf.predict(X_test)\n",
    "        \n",
    "        acc.append(accuracy_score(y_pred, y_test))\n",
    "        f1.append(f1_score(y_pred, y_test))\n",
    "        prec.append(precision_score(y_pred, y_test))\n",
    "        recall.append(recall_score(y_pred, y_test))\n",
    "        \n",
    "    return np.mean(acc), np.mean(f1), np.mean(prec), np.mean(recall)"
   ]
  },
  {
   "cell_type": "markdown",
   "id": "84058e20-4a1a-41f5-a605-8fc88448be5d",
   "metadata": {},
   "source": [
    "### SVM Classifier"
   ]
  },
  {
   "cell_type": "code",
   "execution_count": 65,
   "id": "6c54136a-3afa-40c8-b4f9-293226558bc0",
   "metadata": {},
   "outputs": [],
   "source": [
    "svm_clf = SVC()"
   ]
  },
  {
   "cell_type": "markdown",
   "id": "5184c0ca-1a7b-4302-ab4e-6983c0fe3262",
   "metadata": {},
   "source": [
    "#### Without transformation"
   ]
  },
  {
   "cell_type": "code",
   "execution_count": 51,
   "id": "b8badd85-4b21-4ec0-8d9d-353510d570d2",
   "metadata": {},
   "outputs": [],
   "source": [
    "#stratified(X, y, svm_clf)"
   ]
  },
  {
   "cell_type": "markdown",
   "id": "ac942e4d-121d-4531-9396-bd13063b6af9",
   "metadata": {},
   "source": [
    "#### With discretization"
   ]
  },
  {
   "cell_type": "code",
   "execution_count": 66,
   "id": "1c8c9798-a8cf-4f07-be51-f1826f72a593",
   "metadata": {},
   "outputs": [],
   "source": [
    "kbins_params = dict(n_bins=7, encode=\"ordinal\", strategy=\"kmeans\")\n",
    "svm_scores = stratified(X, y, svm_clf, transformer_=KBinsDiscretizer, params=kbins_params)"
   ]
  },
  {
   "cell_type": "markdown",
   "id": "2185bbca-ebd1-4b9a-ba22-5f62064eb039",
   "metadata": {},
   "source": [
    "#### With normalization"
   ]
  },
  {
   "cell_type": "code",
   "execution_count": 50,
   "id": "77a2c06e-1031-4d90-9cdb-d2eff7a68165",
   "metadata": {},
   "outputs": [],
   "source": [
    "#normalizer_params = dict(norm='max')\n",
    "#stratified(X, y, svm_clf, transformer_=Normalizer)"
   ]
  },
  {
   "cell_type": "markdown",
   "id": "2cd4bb82-6c56-4863-95ac-a8ef1c3e15ad",
   "metadata": {},
   "source": [
    "### Ada Boost Classifier"
   ]
  },
  {
   "cell_type": "code",
   "execution_count": 39,
   "id": "55000455-25cd-48eb-a18d-8460a29c90c5",
   "metadata": {},
   "outputs": [],
   "source": [
    "ada_clf = AdaBoostClassifier()"
   ]
  },
  {
   "cell_type": "markdown",
   "id": "7253e375-6fc8-4e54-b16a-a07736082bb3",
   "metadata": {},
   "source": [
    "#### Without transformation"
   ]
  },
  {
   "cell_type": "code",
   "execution_count": 68,
   "id": "5d81b478-45e3-4d76-a380-7828af9d6287",
   "metadata": {},
   "outputs": [],
   "source": [
    "ada_scores = stratified(X, y, ada_clf)"
   ]
  },
  {
   "cell_type": "markdown",
   "id": "2d416b8c-dd6e-4258-b983-707cfec1f0d1",
   "metadata": {},
   "source": [
    "#### With discretization"
   ]
  },
  {
   "cell_type": "code",
   "execution_count": 49,
   "id": "0d398dd5-6d48-4c85-abf0-4f60222abcea",
   "metadata": {},
   "outputs": [],
   "source": [
    "#stratified(X, y, ada_clf, transformer_=KBinsDiscretizer, params=kbins_params)"
   ]
  },
  {
   "cell_type": "markdown",
   "id": "8dc4ab06-d5ed-4e21-ac2f-8986260e0e44",
   "metadata": {},
   "source": [
    "#### With normalization"
   ]
  },
  {
   "cell_type": "code",
   "execution_count": 48,
   "id": "4183c4c5-a6f6-41f8-a62c-42451fa30c1a",
   "metadata": {},
   "outputs": [],
   "source": [
    "#stratified(X, y, ada_clf, transformer_=Normalizer)"
   ]
  },
  {
   "cell_type": "markdown",
   "id": "a6ec84b3-d62a-4da4-84bf-f83be22fe238",
   "metadata": {},
   "source": [
    "### Random forest classifier"
   ]
  },
  {
   "cell_type": "code",
   "execution_count": 69,
   "id": "40f8eff0-cb71-4df8-92b4-5ca30a44c066",
   "metadata": {},
   "outputs": [],
   "source": [
    "rf_clf = RandomForestClassifier()"
   ]
  },
  {
   "cell_type": "code",
   "execution_count": 125,
   "id": "24247cc5-82ae-444c-bd9f-1de592859049",
   "metadata": {},
   "outputs": [],
   "source": [
    "rf_scores = stratified(X, y, rf_clf)"
   ]
  },
  {
   "cell_type": "code",
   "execution_count": 117,
   "id": "67a1c937-bd37-4867-a459-e7cdb0655b30",
   "metadata": {},
   "outputs": [],
   "source": [
    "#stratified(X, y, rf_clf, transformer_=KBinsDiscretizer, params=kbins_params)"
   ]
  },
  {
   "cell_type": "code",
   "execution_count": 47,
   "id": "35cb7bfc-5c64-47e7-8a82-ada27f40685c",
   "metadata": {},
   "outputs": [],
   "source": [
    "#stratified(X, y, rf_clf, transformer_=Normalizer)"
   ]
  },
  {
   "cell_type": "markdown",
   "id": "c2eba75b-83d3-4467-82b8-5670280e71e7",
   "metadata": {},
   "source": [
    "### Friedman test"
   ]
  },
  {
   "cell_type": "markdown",
   "id": "28c4ed30-cf38-4608-a642-f91d1d9236f2",
   "metadata": {},
   "source": [
    "metrics = pd.DataFrame(columns=[\"Random Forest\", \"SVM\", \"Ada\"], index=[\"Accuracy\", \"Precision\", \"Recall\", \"F-measure\"])"
   ]
  },
  {
   "cell_type": "markdown",
   "id": "9b13af25-ab28-4667-aab5-7409f544495d",
   "metadata": {},
   "source": [
    "metrics"
   ]
  },
  {
   "cell_type": "markdown",
   "id": "285583d4-eff7-4885-8d05-a6b4cf26191d",
   "metadata": {},
   "source": [
    "metrics[\"Random Forest\"] = rf_scores\n",
    "metrics[\"SVM\"] = svm_scores\n",
    "metrics[\"Ada\"] = ada_scores"
   ]
  },
  {
   "cell_type": "markdown",
   "id": "fc346f23-899f-4305-981d-a3dd661c2956",
   "metadata": {},
   "source": [
    "metrics"
   ]
  },
  {
   "cell_type": "markdown",
   "id": "80b84720-a97f-4aab-9869-007c1a9dccde",
   "metadata": {},
   "source": [
    "scores = metrics.rank(axis=1, method=\"max\", ascending=False)"
   ]
  },
  {
   "cell_type": "markdown",
   "id": "44f2ef8d-f974-48ee-a210-346025c3ed3c",
   "metadata": {},
   "source": [
    "scores"
   ]
  },
  {
   "cell_type": "code",
   "execution_count": 160,
   "id": "45e59b0c-289d-4cee-8f68-8837cff5f5bb",
   "metadata": {},
   "outputs": [],
   "source": [
    "def stratified_new(X_: pd.DataFrame, y_: pd.Series, clf, transformer_=None, params=None) -> pd.DataFrame:\n",
    "    \"\"\"\n",
    "    loops through kfold stratified training / test data splits and trains model.\n",
    "    \n",
    "    Args:\n",
    "        X_: pandas data frame (unlabeled data)\n",
    "        y_: pandas series (label data)\n",
    "        clf: classifier algorithm\n",
    "        transformer_: what algorithm for transformation (optional)\n",
    "        params: dictionary with arguments for the transformer\n",
    "    \n",
    "    Returns:\n",
    "        None\n",
    "    \"\"\"\n",
    "    acc = []\n",
    "    f1 = []\n",
    "    prec = []\n",
    "    recall = []\n",
    "    for train_index, test_index in skf.split(X, y):\n",
    "        params = {} if params == None else params\n",
    "        fit = None if transformer_ == None else fitter(X.iloc[train_index], transformer_, params)\n",
    "        X_train = X_.iloc[train_index] if fit == None else transformer(X_.iloc[train_index], fit)\n",
    "        X_test = X_.iloc[test_index] if fit == None else transformer(X_.iloc[test_index], fit)\n",
    "        \n",
    "        y_train, y_test = y_[train_index], y_[test_index]\n",
    "        \n",
    "        clf.fit(X_train, y_train)\n",
    "        y_pred = clf.predict(X_test)\n",
    "        \n",
    "        acc.append(accuracy_score(y_pred, y_test))\n",
    "        f1.append(f1_score(y_pred, y_test))\n",
    "        prec.append(precision_score(y_pred, y_test))\n",
    "        recall.append(recall_score(y_pred, y_test))\n",
    "        \n",
    "    return np.array(acc).reshape(1, 10), np.array(f1).reshape(1, 10), np.array(prec).reshape(1, 10), np.array(recall).reshape(1, 10)"
   ]
  },
  {
   "cell_type": "code",
   "execution_count": 221,
   "id": "9374b9f9-7cdd-4e38-84f5-33cda27d1915",
   "metadata": {},
   "outputs": [],
   "source": [
    "svm_metrics = pd.DataFrame(columns=[f\"fold_{i}\" for i in range(1, 11)], index=[\"Accuracy\", \"Precision\", \"Recall\", \"F-measure\"])\n",
    "ada_metrics = pd.DataFrame(columns=[f\"fold_{i}\" for i in range(1, 11)], index=[\"Accuracy\", \"Precision\", \"Recall\", \"F-measure\"])\n",
    "rf_metrics = pd.DataFrame(columns=[f\"fold_{i}\" for i in range(1, 11)], index=[\"Accuracy\", \"Precision\", \"Recall\", \"F-measure\"])"
   ]
  },
  {
   "cell_type": "code",
   "execution_count": 225,
   "id": "7c19923a-0602-4df3-8fee-a1ea0e73a955",
   "metadata": {},
   "outputs": [
    {
     "data": {
      "text/html": [
       "<div>\n",
       "<style scoped>\n",
       "    .dataframe tbody tr th:only-of-type {\n",
       "        vertical-align: middle;\n",
       "    }\n",
       "\n",
       "    .dataframe tbody tr th {\n",
       "        vertical-align: top;\n",
       "    }\n",
       "\n",
       "    .dataframe thead th {\n",
       "        text-align: right;\n",
       "    }\n",
       "</style>\n",
       "<table border=\"1\" class=\"dataframe\">\n",
       "  <thead>\n",
       "    <tr style=\"text-align: right;\">\n",
       "      <th></th>\n",
       "      <th>fold_1</th>\n",
       "      <th>fold_2</th>\n",
       "      <th>fold_3</th>\n",
       "      <th>fold_4</th>\n",
       "      <th>fold_5</th>\n",
       "      <th>fold_6</th>\n",
       "      <th>fold_7</th>\n",
       "      <th>fold_8</th>\n",
       "      <th>fold_9</th>\n",
       "      <th>fold_10</th>\n",
       "    </tr>\n",
       "  </thead>\n",
       "  <tbody>\n",
       "    <tr>\n",
       "      <th>Accuracy</th>\n",
       "      <td>NaN</td>\n",
       "      <td>NaN</td>\n",
       "      <td>NaN</td>\n",
       "      <td>NaN</td>\n",
       "      <td>NaN</td>\n",
       "      <td>NaN</td>\n",
       "      <td>NaN</td>\n",
       "      <td>NaN</td>\n",
       "      <td>NaN</td>\n",
       "      <td>NaN</td>\n",
       "    </tr>\n",
       "    <tr>\n",
       "      <th>Precision</th>\n",
       "      <td>NaN</td>\n",
       "      <td>NaN</td>\n",
       "      <td>NaN</td>\n",
       "      <td>NaN</td>\n",
       "      <td>NaN</td>\n",
       "      <td>NaN</td>\n",
       "      <td>NaN</td>\n",
       "      <td>NaN</td>\n",
       "      <td>NaN</td>\n",
       "      <td>NaN</td>\n",
       "    </tr>\n",
       "    <tr>\n",
       "      <th>Recall</th>\n",
       "      <td>NaN</td>\n",
       "      <td>NaN</td>\n",
       "      <td>NaN</td>\n",
       "      <td>NaN</td>\n",
       "      <td>NaN</td>\n",
       "      <td>NaN</td>\n",
       "      <td>NaN</td>\n",
       "      <td>NaN</td>\n",
       "      <td>NaN</td>\n",
       "      <td>NaN</td>\n",
       "    </tr>\n",
       "    <tr>\n",
       "      <th>F-measure</th>\n",
       "      <td>NaN</td>\n",
       "      <td>NaN</td>\n",
       "      <td>NaN</td>\n",
       "      <td>NaN</td>\n",
       "      <td>NaN</td>\n",
       "      <td>NaN</td>\n",
       "      <td>NaN</td>\n",
       "      <td>NaN</td>\n",
       "      <td>NaN</td>\n",
       "      <td>NaN</td>\n",
       "    </tr>\n",
       "  </tbody>\n",
       "</table>\n",
       "</div>"
      ],
      "text/plain": [
       "          fold_1 fold_2 fold_3 fold_4 fold_5 fold_6 fold_7 fold_8 fold_9  \\\n",
       "Accuracy     NaN    NaN    NaN    NaN    NaN    NaN    NaN    NaN    NaN   \n",
       "Precision    NaN    NaN    NaN    NaN    NaN    NaN    NaN    NaN    NaN   \n",
       "Recall       NaN    NaN    NaN    NaN    NaN    NaN    NaN    NaN    NaN   \n",
       "F-measure    NaN    NaN    NaN    NaN    NaN    NaN    NaN    NaN    NaN   \n",
       "\n",
       "          fold_10  \n",
       "Accuracy      NaN  \n",
       "Precision     NaN  \n",
       "Recall        NaN  \n",
       "F-measure     NaN  "
      ]
     },
     "execution_count": 225,
     "metadata": {},
     "output_type": "execute_result"
    }
   ],
   "source": [
    "svm_metrics"
   ]
  },
  {
   "cell_type": "code",
   "execution_count": 231,
   "id": "37af4290-e3c6-415b-991d-1f92d630b22d",
   "metadata": {},
   "outputs": [],
   "source": [
    "svm_scores = stratified_new(X, y, svm_clf)\n",
    "ada_scores = stratified_new(X, y, ada_clf)\n",
    "rf_scores = stratified_new(X, y, rf_clf)"
   ]
  },
  {
   "cell_type": "code",
   "execution_count": 232,
   "id": "1d66116b-fce3-4a42-a241-ed4015021764",
   "metadata": {},
   "outputs": [],
   "source": [
    "def table_changer(df_: pd.DataFrame, metrics: np.array):\n",
    "    for idx, label in enumerate(df_.index):\n",
    "        df_.loc[label] = metrics[idx]"
   ]
  },
  {
   "cell_type": "code",
   "execution_count": 233,
   "id": "0f650b1d-9af2-4ddc-b508-f3bea477e9b6",
   "metadata": {},
   "outputs": [],
   "source": [
    "table_changer(svm_metrics, svm_scores)\n",
    "table_changer(ada_metrics, ada_scores)\n",
    "table_changer(rf_metrics, rf_scores)"
   ]
  },
  {
   "cell_type": "code",
   "execution_count": 234,
   "id": "c2f1d369-d929-459a-a635-1c0186d3fa29",
   "metadata": {},
   "outputs": [
    {
     "data": {
      "text/html": [
       "<div>\n",
       "<style scoped>\n",
       "    .dataframe tbody tr th:only-of-type {\n",
       "        vertical-align: middle;\n",
       "    }\n",
       "\n",
       "    .dataframe tbody tr th {\n",
       "        vertical-align: top;\n",
       "    }\n",
       "\n",
       "    .dataframe thead th {\n",
       "        text-align: right;\n",
       "    }\n",
       "</style>\n",
       "<table border=\"1\" class=\"dataframe\">\n",
       "  <thead>\n",
       "    <tr style=\"text-align: right;\">\n",
       "      <th></th>\n",
       "      <th>fold_1</th>\n",
       "      <th>fold_2</th>\n",
       "      <th>fold_3</th>\n",
       "      <th>fold_4</th>\n",
       "      <th>fold_5</th>\n",
       "      <th>fold_6</th>\n",
       "      <th>fold_7</th>\n",
       "      <th>fold_8</th>\n",
       "      <th>fold_9</th>\n",
       "      <th>fold_10</th>\n",
       "    </tr>\n",
       "  </thead>\n",
       "  <tbody>\n",
       "    <tr>\n",
       "      <th>Accuracy</th>\n",
       "      <td>0.661605</td>\n",
       "      <td>0.652174</td>\n",
       "      <td>0.726087</td>\n",
       "      <td>0.752174</td>\n",
       "      <td>0.71087</td>\n",
       "      <td>0.680435</td>\n",
       "      <td>0.756522</td>\n",
       "      <td>0.706522</td>\n",
       "      <td>0.754348</td>\n",
       "      <td>0.713043</td>\n",
       "    </tr>\n",
       "    <tr>\n",
       "      <th>Precision</th>\n",
       "      <td>0.483444</td>\n",
       "      <td>0.487179</td>\n",
       "      <td>0.553191</td>\n",
       "      <td>0.627451</td>\n",
       "      <td>0.549153</td>\n",
       "      <td>0.521173</td>\n",
       "      <td>0.613793</td>\n",
       "      <td>0.545455</td>\n",
       "      <td>0.592058</td>\n",
       "      <td>0.55102</td>\n",
       "    </tr>\n",
       "    <tr>\n",
       "      <th>Recall</th>\n",
       "      <td>0.401099</td>\n",
       "      <td>0.417582</td>\n",
       "      <td>0.428571</td>\n",
       "      <td>0.530387</td>\n",
       "      <td>0.447514</td>\n",
       "      <td>0.441989</td>\n",
       "      <td>0.491713</td>\n",
       "      <td>0.447514</td>\n",
       "      <td>0.453039</td>\n",
       "      <td>0.447514</td>\n",
       "    </tr>\n",
       "    <tr>\n",
       "      <th>F-measure</th>\n",
       "      <td>0.608333</td>\n",
       "      <td>0.584615</td>\n",
       "      <td>0.78</td>\n",
       "      <td>0.768</td>\n",
       "      <td>0.710526</td>\n",
       "      <td>0.634921</td>\n",
       "      <td>0.816514</td>\n",
       "      <td>0.698276</td>\n",
       "      <td>0.854167</td>\n",
       "      <td>0.716814</td>\n",
       "    </tr>\n",
       "  </tbody>\n",
       "</table>\n",
       "</div>"
      ],
      "text/plain": [
       "             fold_1    fold_2    fold_3    fold_4    fold_5    fold_6  \\\n",
       "Accuracy   0.661605  0.652174  0.726087  0.752174   0.71087  0.680435   \n",
       "Precision  0.483444  0.487179  0.553191  0.627451  0.549153  0.521173   \n",
       "Recall     0.401099  0.417582  0.428571  0.530387  0.447514  0.441989   \n",
       "F-measure  0.608333  0.584615      0.78     0.768  0.710526  0.634921   \n",
       "\n",
       "             fold_7    fold_8    fold_9   fold_10  \n",
       "Accuracy   0.756522  0.706522  0.754348  0.713043  \n",
       "Precision  0.613793  0.545455  0.592058   0.55102  \n",
       "Recall     0.491713  0.447514  0.453039  0.447514  \n",
       "F-measure  0.816514  0.698276  0.854167  0.716814  "
      ]
     },
     "execution_count": 234,
     "metadata": {},
     "output_type": "execute_result"
    }
   ],
   "source": [
    "svm_metrics"
   ]
  },
  {
   "cell_type": "code",
   "execution_count": 235,
   "id": "1d444f40-65d9-4c3c-8c53-281f7a8ba2fe",
   "metadata": {},
   "outputs": [
    {
     "data": {
      "text/html": [
       "<div>\n",
       "<style scoped>\n",
       "    .dataframe tbody tr th:only-of-type {\n",
       "        vertical-align: middle;\n",
       "    }\n",
       "\n",
       "    .dataframe tbody tr th {\n",
       "        vertical-align: top;\n",
       "    }\n",
       "\n",
       "    .dataframe thead th {\n",
       "        text-align: right;\n",
       "    }\n",
       "</style>\n",
       "<table border=\"1\" class=\"dataframe\">\n",
       "  <thead>\n",
       "    <tr style=\"text-align: right;\">\n",
       "      <th></th>\n",
       "      <th>fold_1</th>\n",
       "      <th>fold_2</th>\n",
       "      <th>fold_3</th>\n",
       "      <th>fold_4</th>\n",
       "      <th>fold_5</th>\n",
       "      <th>fold_6</th>\n",
       "      <th>fold_7</th>\n",
       "      <th>fold_8</th>\n",
       "      <th>fold_9</th>\n",
       "      <th>fold_10</th>\n",
       "    </tr>\n",
       "  </thead>\n",
       "  <tbody>\n",
       "    <tr>\n",
       "      <th>Accuracy</th>\n",
       "      <td>0.939262</td>\n",
       "      <td>0.95</td>\n",
       "      <td>0.936957</td>\n",
       "      <td>0.936957</td>\n",
       "      <td>0.956522</td>\n",
       "      <td>0.947826</td>\n",
       "      <td>0.945652</td>\n",
       "      <td>0.965217</td>\n",
       "      <td>0.845652</td>\n",
       "      <td>0.856522</td>\n",
       "    </tr>\n",
       "    <tr>\n",
       "      <th>Precision</th>\n",
       "      <td>0.92</td>\n",
       "      <td>0.936288</td>\n",
       "      <td>0.916905</td>\n",
       "      <td>0.919668</td>\n",
       "      <td>0.943503</td>\n",
       "      <td>0.93617</td>\n",
       "      <td>0.928367</td>\n",
       "      <td>0.956044</td>\n",
       "      <td>0.820253</td>\n",
       "      <td>0.815642</td>\n",
       "    </tr>\n",
       "    <tr>\n",
       "      <th>Recall</th>\n",
       "      <td>0.884615</td>\n",
       "      <td>0.928571</td>\n",
       "      <td>0.879121</td>\n",
       "      <td>0.917127</td>\n",
       "      <td>0.922652</td>\n",
       "      <td>0.972376</td>\n",
       "      <td>0.895028</td>\n",
       "      <td>0.961326</td>\n",
       "      <td>0.895028</td>\n",
       "      <td>0.80663</td>\n",
       "    </tr>\n",
       "    <tr>\n",
       "      <th>F-measure</th>\n",
       "      <td>0.958333</td>\n",
       "      <td>0.944134</td>\n",
       "      <td>0.958084</td>\n",
       "      <td>0.922222</td>\n",
       "      <td>0.965318</td>\n",
       "      <td>0.902564</td>\n",
       "      <td>0.964286</td>\n",
       "      <td>0.95082</td>\n",
       "      <td>0.757009</td>\n",
       "      <td>0.824859</td>\n",
       "    </tr>\n",
       "  </tbody>\n",
       "</table>\n",
       "</div>"
      ],
      "text/plain": [
       "             fold_1    fold_2    fold_3    fold_4    fold_5    fold_6  \\\n",
       "Accuracy   0.939262      0.95  0.936957  0.936957  0.956522  0.947826   \n",
       "Precision      0.92  0.936288  0.916905  0.919668  0.943503   0.93617   \n",
       "Recall     0.884615  0.928571  0.879121  0.917127  0.922652  0.972376   \n",
       "F-measure  0.958333  0.944134  0.958084  0.922222  0.965318  0.902564   \n",
       "\n",
       "             fold_7    fold_8    fold_9   fold_10  \n",
       "Accuracy   0.945652  0.965217  0.845652  0.856522  \n",
       "Precision  0.928367  0.956044  0.820253  0.815642  \n",
       "Recall     0.895028  0.961326  0.895028   0.80663  \n",
       "F-measure  0.964286   0.95082  0.757009  0.824859  "
      ]
     },
     "execution_count": 235,
     "metadata": {},
     "output_type": "execute_result"
    }
   ],
   "source": [
    "ada_metrics"
   ]
  },
  {
   "cell_type": "code",
   "execution_count": 236,
   "id": "444d0af2-bbe5-4556-8798-5c48f891729d",
   "metadata": {},
   "outputs": [
    {
     "data": {
      "text/html": [
       "<div>\n",
       "<style scoped>\n",
       "    .dataframe tbody tr th:only-of-type {\n",
       "        vertical-align: middle;\n",
       "    }\n",
       "\n",
       "    .dataframe tbody tr th {\n",
       "        vertical-align: top;\n",
       "    }\n",
       "\n",
       "    .dataframe thead th {\n",
       "        text-align: right;\n",
       "    }\n",
       "</style>\n",
       "<table border=\"1\" class=\"dataframe\">\n",
       "  <thead>\n",
       "    <tr style=\"text-align: right;\">\n",
       "      <th></th>\n",
       "      <th>fold_1</th>\n",
       "      <th>fold_2</th>\n",
       "      <th>fold_3</th>\n",
       "      <th>fold_4</th>\n",
       "      <th>fold_5</th>\n",
       "      <th>fold_6</th>\n",
       "      <th>fold_7</th>\n",
       "      <th>fold_8</th>\n",
       "      <th>fold_9</th>\n",
       "      <th>fold_10</th>\n",
       "    </tr>\n",
       "  </thead>\n",
       "  <tbody>\n",
       "    <tr>\n",
       "      <th>Accuracy</th>\n",
       "      <td>0.950108</td>\n",
       "      <td>0.95</td>\n",
       "      <td>0.934783</td>\n",
       "      <td>0.952174</td>\n",
       "      <td>0.956522</td>\n",
       "      <td>0.958696</td>\n",
       "      <td>0.965217</td>\n",
       "      <td>0.976087</td>\n",
       "      <td>0.902174</td>\n",
       "      <td>0.863043</td>\n",
       "    </tr>\n",
       "    <tr>\n",
       "      <th>Precision</th>\n",
       "      <td>0.935211</td>\n",
       "      <td>0.935933</td>\n",
       "      <td>0.913295</td>\n",
       "      <td>0.937853</td>\n",
       "      <td>0.944134</td>\n",
       "      <td>0.947945</td>\n",
       "      <td>0.954802</td>\n",
       "      <td>0.969188</td>\n",
       "      <td>0.88189</td>\n",
       "      <td>0.825485</td>\n",
       "    </tr>\n",
       "    <tr>\n",
       "      <th>Recall</th>\n",
       "      <td>0.912088</td>\n",
       "      <td>0.923077</td>\n",
       "      <td>0.868132</td>\n",
       "      <td>0.917127</td>\n",
       "      <td>0.933702</td>\n",
       "      <td>0.955801</td>\n",
       "      <td>0.933702</td>\n",
       "      <td>0.955801</td>\n",
       "      <td>0.928177</td>\n",
       "      <td>0.823204</td>\n",
       "    </tr>\n",
       "    <tr>\n",
       "      <th>F-measure</th>\n",
       "      <td>0.959538</td>\n",
       "      <td>0.949153</td>\n",
       "      <td>0.963415</td>\n",
       "      <td>0.959538</td>\n",
       "      <td>0.954802</td>\n",
       "      <td>0.940217</td>\n",
       "      <td>0.976879</td>\n",
       "      <td>0.982955</td>\n",
       "      <td>0.84</td>\n",
       "      <td>0.827778</td>\n",
       "    </tr>\n",
       "  </tbody>\n",
       "</table>\n",
       "</div>"
      ],
      "text/plain": [
       "             fold_1    fold_2    fold_3    fold_4    fold_5    fold_6  \\\n",
       "Accuracy   0.950108      0.95  0.934783  0.952174  0.956522  0.958696   \n",
       "Precision  0.935211  0.935933  0.913295  0.937853  0.944134  0.947945   \n",
       "Recall     0.912088  0.923077  0.868132  0.917127  0.933702  0.955801   \n",
       "F-measure  0.959538  0.949153  0.963415  0.959538  0.954802  0.940217   \n",
       "\n",
       "             fold_7    fold_8    fold_9   fold_10  \n",
       "Accuracy   0.965217  0.976087  0.902174  0.863043  \n",
       "Precision  0.954802  0.969188   0.88189  0.825485  \n",
       "Recall     0.933702  0.955801  0.928177  0.823204  \n",
       "F-measure  0.976879  0.982955      0.84  0.827778  "
      ]
     },
     "execution_count": 236,
     "metadata": {},
     "output_type": "execute_result"
    }
   ],
   "source": [
    "rf_metrics"
   ]
  },
  {
   "cell_type": "code",
   "execution_count": 237,
   "id": "e0b1d3ce-347a-46d2-b08c-317b8be8a53d",
   "metadata": {},
   "outputs": [],
   "source": [
    "def ranker(df_: pd.DataFrame) -> pd.DataFrame:\n",
    "    return pd.DataFrame(df_.rank(axis=1, method=\"max\", ascending=False))"
   ]
  },
  {
   "cell_type": "code",
   "execution_count": 242,
   "id": "a2fcdd42-e439-4292-90ec-02ea732a5100",
   "metadata": {},
   "outputs": [],
   "source": [
    "svm_ranker = ranker(svm_metrics)\n",
    "ada_ranker = ranker(ada_metrics)\n",
    "rf_ranker = ranker(rf_metrics)"
   ]
  },
  {
   "cell_type": "code",
   "execution_count": 243,
   "id": "70cb10e4-3e14-4a00-95de-2356e0e58733",
   "metadata": {},
   "outputs": [
    {
     "data": {
      "text/html": [
       "<div>\n",
       "<style scoped>\n",
       "    .dataframe tbody tr th:only-of-type {\n",
       "        vertical-align: middle;\n",
       "    }\n",
       "\n",
       "    .dataframe tbody tr th {\n",
       "        vertical-align: top;\n",
       "    }\n",
       "\n",
       "    .dataframe thead th {\n",
       "        text-align: right;\n",
       "    }\n",
       "</style>\n",
       "<table border=\"1\" class=\"dataframe\">\n",
       "  <thead>\n",
       "    <tr style=\"text-align: right;\">\n",
       "      <th></th>\n",
       "      <th>fold_1</th>\n",
       "      <th>fold_2</th>\n",
       "      <th>fold_3</th>\n",
       "      <th>fold_4</th>\n",
       "      <th>fold_5</th>\n",
       "      <th>fold_6</th>\n",
       "      <th>fold_7</th>\n",
       "      <th>fold_8</th>\n",
       "      <th>fold_9</th>\n",
       "      <th>fold_10</th>\n",
       "    </tr>\n",
       "  </thead>\n",
       "  <tbody>\n",
       "    <tr>\n",
       "      <th>Accuracy</th>\n",
       "      <td>9.0</td>\n",
       "      <td>10.0</td>\n",
       "      <td>4.0</td>\n",
       "      <td>3.0</td>\n",
       "      <td>6.0</td>\n",
       "      <td>8.0</td>\n",
       "      <td>1.0</td>\n",
       "      <td>7.0</td>\n",
       "      <td>2.0</td>\n",
       "      <td>5.0</td>\n",
       "    </tr>\n",
       "    <tr>\n",
       "      <th>Precision</th>\n",
       "      <td>10.0</td>\n",
       "      <td>9.0</td>\n",
       "      <td>4.0</td>\n",
       "      <td>1.0</td>\n",
       "      <td>6.0</td>\n",
       "      <td>8.0</td>\n",
       "      <td>2.0</td>\n",
       "      <td>7.0</td>\n",
       "      <td>3.0</td>\n",
       "      <td>5.0</td>\n",
       "    </tr>\n",
       "    <tr>\n",
       "      <th>Recall</th>\n",
       "      <td>10.0</td>\n",
       "      <td>9.0</td>\n",
       "      <td>8.0</td>\n",
       "      <td>1.0</td>\n",
       "      <td>6.0</td>\n",
       "      <td>7.0</td>\n",
       "      <td>2.0</td>\n",
       "      <td>6.0</td>\n",
       "      <td>3.0</td>\n",
       "      <td>6.0</td>\n",
       "    </tr>\n",
       "    <tr>\n",
       "      <th>F-measure</th>\n",
       "      <td>9.0</td>\n",
       "      <td>10.0</td>\n",
       "      <td>3.0</td>\n",
       "      <td>4.0</td>\n",
       "      <td>6.0</td>\n",
       "      <td>8.0</td>\n",
       "      <td>2.0</td>\n",
       "      <td>7.0</td>\n",
       "      <td>1.0</td>\n",
       "      <td>5.0</td>\n",
       "    </tr>\n",
       "  </tbody>\n",
       "</table>\n",
       "</div>"
      ],
      "text/plain": [
       "           fold_1  fold_2  fold_3  fold_4  fold_5  fold_6  fold_7  fold_8  \\\n",
       "Accuracy      9.0    10.0     4.0     3.0     6.0     8.0     1.0     7.0   \n",
       "Precision    10.0     9.0     4.0     1.0     6.0     8.0     2.0     7.0   \n",
       "Recall       10.0     9.0     8.0     1.0     6.0     7.0     2.0     6.0   \n",
       "F-measure     9.0    10.0     3.0     4.0     6.0     8.0     2.0     7.0   \n",
       "\n",
       "           fold_9  fold_10  \n",
       "Accuracy      2.0      5.0  \n",
       "Precision     3.0      5.0  \n",
       "Recall        3.0      6.0  \n",
       "F-measure     1.0      5.0  "
      ]
     },
     "execution_count": 243,
     "metadata": {},
     "output_type": "execute_result"
    }
   ],
   "source": [
    "svm_ranker"
   ]
  },
  {
   "cell_type": "code",
   "execution_count": 244,
   "id": "646f4e20-1b99-4ee8-9fb8-165aa2578f17",
   "metadata": {},
   "outputs": [
    {
     "data": {
      "text/html": [
       "<div>\n",
       "<style scoped>\n",
       "    .dataframe tbody tr th:only-of-type {\n",
       "        vertical-align: middle;\n",
       "    }\n",
       "\n",
       "    .dataframe tbody tr th {\n",
       "        vertical-align: top;\n",
       "    }\n",
       "\n",
       "    .dataframe thead th {\n",
       "        text-align: right;\n",
       "    }\n",
       "</style>\n",
       "<table border=\"1\" class=\"dataframe\">\n",
       "  <thead>\n",
       "    <tr style=\"text-align: right;\">\n",
       "      <th></th>\n",
       "      <th>fold_1</th>\n",
       "      <th>fold_2</th>\n",
       "      <th>fold_3</th>\n",
       "      <th>fold_4</th>\n",
       "      <th>fold_5</th>\n",
       "      <th>fold_6</th>\n",
       "      <th>fold_7</th>\n",
       "      <th>fold_8</th>\n",
       "      <th>fold_9</th>\n",
       "      <th>fold_10</th>\n",
       "    </tr>\n",
       "  </thead>\n",
       "  <tbody>\n",
       "    <tr>\n",
       "      <th>Accuracy</th>\n",
       "      <td>6.0</td>\n",
       "      <td>3.0</td>\n",
       "      <td>8.0</td>\n",
       "      <td>8.0</td>\n",
       "      <td>2.0</td>\n",
       "      <td>4.0</td>\n",
       "      <td>5.0</td>\n",
       "      <td>1.0</td>\n",
       "      <td>10.0</td>\n",
       "      <td>9.0</td>\n",
       "    </tr>\n",
       "    <tr>\n",
       "      <th>Precision</th>\n",
       "      <td>6.0</td>\n",
       "      <td>3.0</td>\n",
       "      <td>8.0</td>\n",
       "      <td>7.0</td>\n",
       "      <td>2.0</td>\n",
       "      <td>4.0</td>\n",
       "      <td>5.0</td>\n",
       "      <td>1.0</td>\n",
       "      <td>9.0</td>\n",
       "      <td>10.0</td>\n",
       "    </tr>\n",
       "    <tr>\n",
       "      <th>Recall</th>\n",
       "      <td>8.0</td>\n",
       "      <td>3.0</td>\n",
       "      <td>9.0</td>\n",
       "      <td>5.0</td>\n",
       "      <td>4.0</td>\n",
       "      <td>1.0</td>\n",
       "      <td>7.0</td>\n",
       "      <td>2.0</td>\n",
       "      <td>7.0</td>\n",
       "      <td>10.0</td>\n",
       "    </tr>\n",
       "    <tr>\n",
       "      <th>F-measure</th>\n",
       "      <td>3.0</td>\n",
       "      <td>6.0</td>\n",
       "      <td>4.0</td>\n",
       "      <td>7.0</td>\n",
       "      <td>1.0</td>\n",
       "      <td>8.0</td>\n",
       "      <td>2.0</td>\n",
       "      <td>5.0</td>\n",
       "      <td>10.0</td>\n",
       "      <td>9.0</td>\n",
       "    </tr>\n",
       "  </tbody>\n",
       "</table>\n",
       "</div>"
      ],
      "text/plain": [
       "           fold_1  fold_2  fold_3  fold_4  fold_5  fold_6  fold_7  fold_8  \\\n",
       "Accuracy      6.0     3.0     8.0     8.0     2.0     4.0     5.0     1.0   \n",
       "Precision     6.0     3.0     8.0     7.0     2.0     4.0     5.0     1.0   \n",
       "Recall        8.0     3.0     9.0     5.0     4.0     1.0     7.0     2.0   \n",
       "F-measure     3.0     6.0     4.0     7.0     1.0     8.0     2.0     5.0   \n",
       "\n",
       "           fold_9  fold_10  \n",
       "Accuracy     10.0      9.0  \n",
       "Precision     9.0     10.0  \n",
       "Recall        7.0     10.0  \n",
       "F-measure    10.0      9.0  "
      ]
     },
     "execution_count": 244,
     "metadata": {},
     "output_type": "execute_result"
    }
   ],
   "source": [
    "ada_ranker"
   ]
  },
  {
   "cell_type": "code",
   "execution_count": 245,
   "id": "6334b31f-0b89-4d0d-b18a-48674aac5d10",
   "metadata": {},
   "outputs": [
    {
     "data": {
      "text/html": [
       "<div>\n",
       "<style scoped>\n",
       "    .dataframe tbody tr th:only-of-type {\n",
       "        vertical-align: middle;\n",
       "    }\n",
       "\n",
       "    .dataframe tbody tr th {\n",
       "        vertical-align: top;\n",
       "    }\n",
       "\n",
       "    .dataframe thead th {\n",
       "        text-align: right;\n",
       "    }\n",
       "</style>\n",
       "<table border=\"1\" class=\"dataframe\">\n",
       "  <thead>\n",
       "    <tr style=\"text-align: right;\">\n",
       "      <th></th>\n",
       "      <th>fold_1</th>\n",
       "      <th>fold_2</th>\n",
       "      <th>fold_3</th>\n",
       "      <th>fold_4</th>\n",
       "      <th>fold_5</th>\n",
       "      <th>fold_6</th>\n",
       "      <th>fold_7</th>\n",
       "      <th>fold_8</th>\n",
       "      <th>fold_9</th>\n",
       "      <th>fold_10</th>\n",
       "    </tr>\n",
       "  </thead>\n",
       "  <tbody>\n",
       "    <tr>\n",
       "      <th>Accuracy</th>\n",
       "      <td>6.0</td>\n",
       "      <td>7.0</td>\n",
       "      <td>8.0</td>\n",
       "      <td>5.0</td>\n",
       "      <td>4.0</td>\n",
       "      <td>3.0</td>\n",
       "      <td>2.0</td>\n",
       "      <td>1.0</td>\n",
       "      <td>9.0</td>\n",
       "      <td>10.0</td>\n",
       "    </tr>\n",
       "    <tr>\n",
       "      <th>Precision</th>\n",
       "      <td>7.0</td>\n",
       "      <td>6.0</td>\n",
       "      <td>8.0</td>\n",
       "      <td>5.0</td>\n",
       "      <td>4.0</td>\n",
       "      <td>3.0</td>\n",
       "      <td>2.0</td>\n",
       "      <td>1.0</td>\n",
       "      <td>9.0</td>\n",
       "      <td>10.0</td>\n",
       "    </tr>\n",
       "    <tr>\n",
       "      <th>Recall</th>\n",
       "      <td>8.0</td>\n",
       "      <td>6.0</td>\n",
       "      <td>9.0</td>\n",
       "      <td>7.0</td>\n",
       "      <td>4.0</td>\n",
       "      <td>2.0</td>\n",
       "      <td>4.0</td>\n",
       "      <td>2.0</td>\n",
       "      <td>5.0</td>\n",
       "      <td>10.0</td>\n",
       "    </tr>\n",
       "    <tr>\n",
       "      <th>F-measure</th>\n",
       "      <td>5.0</td>\n",
       "      <td>7.0</td>\n",
       "      <td>3.0</td>\n",
       "      <td>5.0</td>\n",
       "      <td>6.0</td>\n",
       "      <td>8.0</td>\n",
       "      <td>2.0</td>\n",
       "      <td>1.0</td>\n",
       "      <td>9.0</td>\n",
       "      <td>10.0</td>\n",
       "    </tr>\n",
       "  </tbody>\n",
       "</table>\n",
       "</div>"
      ],
      "text/plain": [
       "           fold_1  fold_2  fold_3  fold_4  fold_5  fold_6  fold_7  fold_8  \\\n",
       "Accuracy      6.0     7.0     8.0     5.0     4.0     3.0     2.0     1.0   \n",
       "Precision     7.0     6.0     8.0     5.0     4.0     3.0     2.0     1.0   \n",
       "Recall        8.0     6.0     9.0     7.0     4.0     2.0     4.0     2.0   \n",
       "F-measure     5.0     7.0     3.0     5.0     6.0     8.0     2.0     1.0   \n",
       "\n",
       "           fold_9  fold_10  \n",
       "Accuracy      9.0     10.0  \n",
       "Precision     9.0     10.0  \n",
       "Recall        5.0     10.0  \n",
       "F-measure     9.0     10.0  "
      ]
     },
     "execution_count": 245,
     "metadata": {},
     "output_type": "execute_result"
    }
   ],
   "source": [
    "rf_ranker"
   ]
  }
 ],
 "metadata": {
  "kernelspec": {
   "display_name": "Python 3 (ipykernel)",
   "language": "python",
   "name": "python3"
  },
  "language_info": {
   "codemirror_mode": {
    "name": "ipython",
    "version": 3
   },
   "file_extension": ".py",
   "mimetype": "text/x-python",
   "name": "python",
   "nbconvert_exporter": "python",
   "pygments_lexer": "ipython3",
   "version": "3.10.5"
  }
 },
 "nbformat": 4,
 "nbformat_minor": 5
}
